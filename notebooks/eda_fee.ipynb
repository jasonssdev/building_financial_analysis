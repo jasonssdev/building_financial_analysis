{
 "cells": [
  {
   "cell_type": "code",
   "execution_count": 1,
   "metadata": {},
   "outputs": [],
   "source": [
    "# Import libraries \n",
    "import pandas as pd\n",
    "import numpy as np\n",
    "import matplotlib.pyplot as plt\n",
    "import seaborn as sns"
   ]
  },
  {
   "cell_type": "code",
   "execution_count": 2,
   "metadata": {},
   "outputs": [],
   "source": [
    "# load dataframes\n",
    "df_fee = pd.read_csv('../data/cuotas.csv', sep=',')\n",
    "\n"
   ]
  },
  {
   "cell_type": "code",
   "execution_count": 3,
   "metadata": {},
   "outputs": [
    {
     "data": {
      "text/html": [
       "<div>\n",
       "<style scoped>\n",
       "    .dataframe tbody tr th:only-of-type {\n",
       "        vertical-align: middle;\n",
       "    }\n",
       "\n",
       "    .dataframe tbody tr th {\n",
       "        vertical-align: top;\n",
       "    }\n",
       "\n",
       "    .dataframe thead th {\n",
       "        text-align: right;\n",
       "    }\n",
       "</style>\n",
       "<table border=\"1\" class=\"dataframe\">\n",
       "  <thead>\n",
       "    <tr style=\"text-align: right;\">\n",
       "      <th></th>\n",
       "      <th>APTO</th>\n",
       "      <th>MTS EN REGISTRO PUBLICO</th>\n",
       "      <th>CUOTA SEGUN REGISTRO PUBLICO</th>\n",
       "    </tr>\n",
       "  </thead>\n",
       "  <tbody>\n",
       "    <tr>\n",
       "      <th>0</th>\n",
       "      <td>8A</td>\n",
       "      <td>112.28</td>\n",
       "      <td>202.104</td>\n",
       "    </tr>\n",
       "    <tr>\n",
       "      <th>1</th>\n",
       "      <td>8B</td>\n",
       "      <td>88.41</td>\n",
       "      <td>159.138</td>\n",
       "    </tr>\n",
       "    <tr>\n",
       "      <th>2</th>\n",
       "      <td>8C</td>\n",
       "      <td>112.39</td>\n",
       "      <td>202.302</td>\n",
       "    </tr>\n",
       "    <tr>\n",
       "      <th>3</th>\n",
       "      <td>8D</td>\n",
       "      <td>112.39</td>\n",
       "      <td>202.302</td>\n",
       "    </tr>\n",
       "    <tr>\n",
       "      <th>4</th>\n",
       "      <td>8E</td>\n",
       "      <td>91.17</td>\n",
       "      <td>164.106</td>\n",
       "    </tr>\n",
       "  </tbody>\n",
       "</table>\n",
       "</div>"
      ],
      "text/plain": [
       "  APTO   MTS EN REGISTRO PUBLICO  CUOTA SEGUN REGISTRO PUBLICO\n",
       "0    8A                   112.28                       202.104\n",
       "1    8B                    88.41                       159.138\n",
       "2    8C                   112.39                       202.302\n",
       "3    8D                   112.39                       202.302\n",
       "4    8E                    91.17                       164.106"
      ]
     },
     "execution_count": 3,
     "metadata": {},
     "output_type": "execute_result"
    }
   ],
   "source": [
    "# Fee data display 5 lines\n",
    "df_fee.head(5)"
   ]
  },
  {
   "cell_type": "code",
   "execution_count": 5,
   "metadata": {},
   "outputs": [
    {
     "name": "stdout",
     "output_type": "stream",
     "text": [
      "Ingreso mensual total del PH: $27365.29\n"
     ]
    }
   ],
   "source": [
    "\n",
    "total_cuotas = df_fee['CUOTA SEGUN REGISTRO PUBLICO'].sum()\n",
    "\n",
    "print(f\"Ingreso mensual total del PH: ${total_cuotas:.2f}\")"
   ]
  },
  {
   "cell_type": "code",
   "execution_count": 8,
   "metadata": {},
   "outputs": [
    {
     "data": {
      "text/plain": [
       "count    148.000000\n",
       "mean     184.900622\n",
       "std       55.868481\n",
       "min      156.510000\n",
       "25%      166.482000\n",
       "50%      177.390000\n",
       "75%      178.110000\n",
       "max      559.242000\n",
       "Name: CUOTA SEGUN REGISTRO PUBLICO, dtype: float64"
      ]
     },
     "execution_count": 8,
     "metadata": {},
     "output_type": "execute_result"
    }
   ],
   "source": [
    "df_fee['CUOTA SEGUN REGISTRO PUBLICO'].describe()"
   ]
  },
  {
   "cell_type": "code",
   "execution_count": 9,
   "metadata": {},
   "outputs": [
    {
     "name": "stdout",
     "output_type": "stream",
     "text": [
      "El promedio de la 'CUOTA SEGUN REGISTRO PUBLICO' es: 184.90\n"
     ]
    }
   ],
   "source": [
    "promedio_cuota = df_fee['CUOTA SEGUN REGISTRO PUBLICO'].mean()\n",
    "print(f\"El promedio de la 'CUOTA SEGUN REGISTRO PUBLICO' es: {promedio_cuota:.2f}\")\n"
   ]
  },
  {
   "cell_type": "code",
   "execution_count": null,
   "metadata": {},
   "outputs": [],
   "source": []
  }
 ],
 "metadata": {
  "kernelspec": {
   "display_name": "venvpy3.12.3",
   "language": "python",
   "name": "python3"
  },
  "language_info": {
   "codemirror_mode": {
    "name": "ipython",
    "version": 3
   },
   "file_extension": ".py",
   "mimetype": "text/x-python",
   "name": "python",
   "nbconvert_exporter": "python",
   "pygments_lexer": "ipython3",
   "version": "3.12.3"
  }
 },
 "nbformat": 4,
 "nbformat_minor": 2
}
