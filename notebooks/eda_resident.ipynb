{
 "cells": [
  {
   "cell_type": "code",
   "execution_count": 6,
   "metadata": {},
   "outputs": [],
   "source": [
    "# Import libraries \n",
    "import pandas as pd\n",
    "import numpy as np\n",
    "import matplotlib.pyplot as plt\n",
    "import seaborn as sns"
   ]
  },
  {
   "cell_type": "code",
   "execution_count": 7,
   "metadata": {},
   "outputs": [],
   "source": [
    "# load dataframes\n",
    "df_resident = pd.read_csv('../data/residentes.csv', sep=',')\n"
   ]
  },
  {
   "cell_type": "code",
   "execution_count": 8,
   "metadata": {},
   "outputs": [
    {
     "data": {
      "text/html": [
       "<div>\n",
       "<style scoped>\n",
       "    .dataframe tbody tr th:only-of-type {\n",
       "        vertical-align: middle;\n",
       "    }\n",
       "\n",
       "    .dataframe tbody tr th {\n",
       "        vertical-align: top;\n",
       "    }\n",
       "\n",
       "    .dataframe thead th {\n",
       "        text-align: right;\n",
       "    }\n",
       "</style>\n",
       "<table border=\"1\" class=\"dataframe\">\n",
       "  <thead>\n",
       "    <tr style=\"text-align: right;\">\n",
       "      <th></th>\n",
       "      <th>Unidad</th>\n",
       "      <th>Nombre</th>\n",
       "      <th>Rol</th>\n",
       "    </tr>\n",
       "  </thead>\n",
       "  <tbody>\n",
       "    <tr>\n",
       "      <th>0</th>\n",
       "      <td>8A</td>\n",
       "      <td>Jose Mogollon</td>\n",
       "      <td>Dueño</td>\n",
       "    </tr>\n",
       "    <tr>\n",
       "      <th>1</th>\n",
       "      <td>8A</td>\n",
       "      <td>Boris</td>\n",
       "      <td>Arrendatario</td>\n",
       "    </tr>\n",
       "    <tr>\n",
       "      <th>2</th>\n",
       "      <td>8B</td>\n",
       "      <td>Joel Leal</td>\n",
       "      <td>Dueño</td>\n",
       "    </tr>\n",
       "    <tr>\n",
       "      <th>3</th>\n",
       "      <td>8B</td>\n",
       "      <td>Luz Karime Londoño</td>\n",
       "      <td>Arrendatario</td>\n",
       "    </tr>\n",
       "    <tr>\n",
       "      <th>4</th>\n",
       "      <td>8C</td>\n",
       "      <td>Edy Gonzalez</td>\n",
       "      <td>Dueño</td>\n",
       "    </tr>\n",
       "  </tbody>\n",
       "</table>\n",
       "</div>"
      ],
      "text/plain": [
       "  Unidad              Nombre           Rol\n",
       "0     8A       Jose Mogollon         Dueño\n",
       "1     8A               Boris  Arrendatario\n",
       "2     8B           Joel Leal         Dueño\n",
       "3     8B  Luz Karime Londoño  Arrendatario\n",
       "4     8C        Edy Gonzalez         Dueño"
      ]
     },
     "execution_count": 8,
     "metadata": {},
     "output_type": "execute_result"
    }
   ],
   "source": [
    "# Resident data display 5 lines\n",
    "df_resident.head(5)"
   ]
  },
  {
   "cell_type": "code",
   "execution_count": 9,
   "metadata": {},
   "outputs": [
    {
     "name": "stdout",
     "output_type": "stream",
     "text": [
      "<class 'pandas.core.frame.DataFrame'>\n",
      "RangeIndex: 219 entries, 0 to 218\n",
      "Data columns (total 3 columns):\n",
      " #   Column  Non-Null Count  Dtype \n",
      "---  ------  --------------  ----- \n",
      " 0   Unidad  219 non-null    object\n",
      " 1   Nombre  219 non-null    object\n",
      " 2   Rol     219 non-null    object\n",
      "dtypes: object(3)\n",
      "memory usage: 5.3+ KB\n"
     ]
    }
   ],
   "source": [
    "df_resident.info()"
   ]
  },
  {
   "cell_type": "code",
   "execution_count": 21,
   "metadata": {},
   "outputs": [
    {
     "name": "stdout",
     "output_type": "stream",
     "text": [
      "Total de personas resgistradas en el PH: 207\n",
      "Total de unidades en el PH: 148\n",
      "Número de personas por unidad:\n",
      "Unidad\n",
      "24B    3\n",
      "20E    3\n",
      "27D    3\n",
      "20B    2\n",
      "23A    2\n",
      "      ..\n",
      "11F    1\n",
      "23C    1\n",
      "18B    1\n",
      "12B    1\n",
      "32D    1\n",
      "Name: count, Length: 148, dtype: int64\n"
     ]
    }
   ],
   "source": [
    "total_personas = df_resident['Nombre'].nunique()\n",
    "print(f\"Total de personas resgistradas en el PH: {total_personas}\")\n",
    "\n",
    "total_unidades = df_resident['Unidad'].nunique()\n",
    "print(f\"Total de unidades en el PH: {total_unidades}\")\n",
    "\n",
    "personas_por_unidad = df_resident['Unidad'].value_counts()\n",
    "print(\"Número de personas por unidad:\")\n",
    "print(personas_por_unidad)"
   ]
  },
  {
   "cell_type": "code",
   "execution_count": null,
   "metadata": {},
   "outputs": [],
   "source": []
  }
 ],
 "metadata": {
  "kernelspec": {
   "display_name": "venvpy3.12.3",
   "language": "python",
   "name": "python3"
  },
  "language_info": {
   "codemirror_mode": {
    "name": "ipython",
    "version": 3
   },
   "file_extension": ".py",
   "mimetype": "text/x-python",
   "name": "python",
   "nbconvert_exporter": "python",
   "pygments_lexer": "ipython3",
   "version": "3.12.3"
  }
 },
 "nbformat": 4,
 "nbformat_minor": 2
}
