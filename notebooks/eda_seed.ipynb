{
 "cells": [
  {
   "cell_type": "code",
   "execution_count": 1,
   "metadata": {},
   "outputs": [],
   "source": [
    "# Import libraries \n",
    "import pandas as pd\n",
    "import numpy as np\n",
    "import matplotlib.pyplot as plt\n",
    "import seaborn as sns"
   ]
  },
  {
   "cell_type": "code",
   "execution_count": 2,
   "metadata": {},
   "outputs": [],
   "source": [
    "# load dataframes\n",
    "df_seed = pd.read_csv('../data/semilla.csv', sep=',')\n"
   ]
  },
  {
   "cell_type": "code",
   "execution_count": 3,
   "metadata": {},
   "outputs": [
    {
     "data": {
      "text/html": [
       "<div>\n",
       "<style scoped>\n",
       "    .dataframe tbody tr th:only-of-type {\n",
       "        vertical-align: middle;\n",
       "    }\n",
       "\n",
       "    .dataframe tbody tr th {\n",
       "        vertical-align: top;\n",
       "    }\n",
       "\n",
       "    .dataframe thead th {\n",
       "        text-align: right;\n",
       "    }\n",
       "</style>\n",
       "<table border=\"1\" class=\"dataframe\">\n",
       "  <thead>\n",
       "    <tr style=\"text-align: right;\">\n",
       "      <th></th>\n",
       "      <th>Unidad</th>\n",
       "      <th>Facturado</th>\n",
       "      <th>Pagado</th>\n",
       "      <th>Saldo</th>\n",
       "      <th>Comentario</th>\n",
       "    </tr>\n",
       "  </thead>\n",
       "  <tbody>\n",
       "    <tr>\n",
       "      <th>0</th>\n",
       "      <td>8A</td>\n",
       "      <td>$1,100</td>\n",
       "      <td>$1,100</td>\n",
       "      <td>$-</td>\n",
       "      <td>Pagado antes 2024</td>\n",
       "    </tr>\n",
       "    <tr>\n",
       "      <th>1</th>\n",
       "      <td>8B</td>\n",
       "      <td>$1,100</td>\n",
       "      <td>$400</td>\n",
       "      <td>$700</td>\n",
       "      <td>Falta comporbante de pago</td>\n",
       "    </tr>\n",
       "    <tr>\n",
       "      <th>2</th>\n",
       "      <td>8C</td>\n",
       "      <td>$1,100</td>\n",
       "      <td>$1,100</td>\n",
       "      <td>$-</td>\n",
       "      <td>Pagado antes 2024</td>\n",
       "    </tr>\n",
       "    <tr>\n",
       "      <th>3</th>\n",
       "      <td>8D</td>\n",
       "      <td>$1,100</td>\n",
       "      <td>$1,100</td>\n",
       "      <td>$-</td>\n",
       "      <td>Pagado antes 2024</td>\n",
       "    </tr>\n",
       "    <tr>\n",
       "      <th>4</th>\n",
       "      <td>8E</td>\n",
       "      <td>$1,100</td>\n",
       "      <td>$1,100</td>\n",
       "      <td>$-</td>\n",
       "      <td>Pagado antes 2024</td>\n",
       "    </tr>\n",
       "  </tbody>\n",
       "</table>\n",
       "</div>"
      ],
      "text/plain": [
       "  Unidad  Facturado    Pagado   Saldo                    Comentario\n",
       "0     8A     $1,100    $1,100      $-            Pagado antes 2024 \n",
       "1     8B     $1,100      $400    $700    Falta comporbante de pago \n",
       "2     8C     $1,100    $1,100      $-            Pagado antes 2024 \n",
       "3     8D     $1,100    $1,100      $-            Pagado antes 2024 \n",
       "4     8E     $1,100    $1,100      $-            Pagado antes 2024 "
      ]
     },
     "execution_count": 3,
     "metadata": {},
     "output_type": "execute_result"
    }
   ],
   "source": [
    "# Seed data display 5 lines\n",
    "df_seed.head(5)"
   ]
  },
  {
   "cell_type": "code",
   "execution_count": null,
   "metadata": {},
   "outputs": [],
   "source": []
  }
 ],
 "metadata": {
  "kernelspec": {
   "display_name": "venvpy3.12.3",
   "language": "python",
   "name": "python3"
  },
  "language_info": {
   "codemirror_mode": {
    "name": "ipython",
    "version": 3
   },
   "file_extension": ".py",
   "mimetype": "text/x-python",
   "name": "python",
   "nbconvert_exporter": "python",
   "pygments_lexer": "ipython3",
   "version": "3.12.3"
  }
 },
 "nbformat": 4,
 "nbformat_minor": 2
}
