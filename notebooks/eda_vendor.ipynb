{
 "cells": [
  {
   "cell_type": "code",
   "execution_count": 1,
   "metadata": {},
   "outputs": [],
   "source": [
    "# Import libraries \n",
    "import pandas as pd\n",
    "import numpy as np\n",
    "import matplotlib.pyplot as plt\n",
    "import seaborn as sns"
   ]
  },
  {
   "cell_type": "code",
   "execution_count": 2,
   "metadata": {},
   "outputs": [],
   "source": [
    "# load dataframes\n",
    "df_vendor = pd.read_csv('../data/proveedores.csv', sep=',')\n",
    "\n"
   ]
  },
  {
   "cell_type": "code",
   "execution_count": 3,
   "metadata": {},
   "outputs": [
    {
     "data": {
      "text/html": [
       "<div>\n",
       "<style scoped>\n",
       "    .dataframe tbody tr th:only-of-type {\n",
       "        vertical-align: middle;\n",
       "    }\n",
       "\n",
       "    .dataframe tbody tr th {\n",
       "        vertical-align: top;\n",
       "    }\n",
       "\n",
       "    .dataframe thead th {\n",
       "        text-align: right;\n",
       "    }\n",
       "</style>\n",
       "<table border=\"1\" class=\"dataframe\">\n",
       "  <thead>\n",
       "    <tr style=\"text-align: right;\">\n",
       "      <th></th>\n",
       "      <th>NOMBRE PROVEEDOR</th>\n",
       "      <th>TIPO</th>\n",
       "      <th>CATEGORIA</th>\n",
       "      <th>SUBCATEGORIA</th>\n",
       "      <th>DETALLE</th>\n",
       "      <th>FRECUENCIA</th>\n",
       "    </tr>\n",
       "  </thead>\n",
       "  <tbody>\n",
       "    <tr>\n",
       "      <th>0</th>\n",
       "      <td>AARON CAMPOS</td>\n",
       "      <td>EGRESO</td>\n",
       "      <td>OPERACION, REPARACION Y MANTENIMIENTO</td>\n",
       "      <td>SERVICIOS OPERATIVOS</td>\n",
       "      <td>Otros servicios operativos</td>\n",
       "      <td>EVENTUAL</td>\n",
       "    </tr>\n",
       "    <tr>\n",
       "      <th>1</th>\n",
       "      <td>AARON MOISES CAMPO SAMPER</td>\n",
       "      <td>EGRESO</td>\n",
       "      <td>OPERACION, REPARACION Y MANTENIMIENTO</td>\n",
       "      <td>SERVICIOS OPERATIVOS</td>\n",
       "      <td>Otros servicios operativos</td>\n",
       "      <td>EVENTUAL</td>\n",
       "    </tr>\n",
       "    <tr>\n",
       "      <th>2</th>\n",
       "      <td>ACCESOS AUTOMATICOS</td>\n",
       "      <td>EGRESO</td>\n",
       "      <td>OPERACION, REPARACION Y MANTENIMIENTO</td>\n",
       "      <td>MANTENIMIENTO</td>\n",
       "      <td>Mantenimiento puertas abatibles</td>\n",
       "      <td>FRECUENTE</td>\n",
       "    </tr>\n",
       "    <tr>\n",
       "      <th>3</th>\n",
       "      <td>AGRUPACION PETROLERA, S.A.</td>\n",
       "      <td>EGRESO</td>\n",
       "      <td>SERVICIOS BASICOS Y DE CONSUMO</td>\n",
       "      <td>SERVICIOS BASICOS Y DE CONSUMO</td>\n",
       "      <td>Otros gastos de consumo</td>\n",
       "      <td>EVENTUAL</td>\n",
       "    </tr>\n",
       "    <tr>\n",
       "      <th>4</th>\n",
       "      <td>ALARMA SOLUTION</td>\n",
       "      <td>EGRESO</td>\n",
       "      <td>OPERACION, REPARACION Y MANTENIMIENTO</td>\n",
       "      <td>SERVICIOS OPERATIVOS</td>\n",
       "      <td>Otros servicios operativos</td>\n",
       "      <td>EVENTUAL</td>\n",
       "    </tr>\n",
       "  </tbody>\n",
       "</table>\n",
       "</div>"
      ],
      "text/plain": [
       "             NOMBRE PROVEEDOR    TIPO                              CATEGORIA  \\\n",
       "0                AARON CAMPOS  EGRESO  OPERACION, REPARACION Y MANTENIMIENTO   \n",
       "1   AARON MOISES CAMPO SAMPER  EGRESO  OPERACION, REPARACION Y MANTENIMIENTO   \n",
       "2        ACCESOS AUTOMATICOS   EGRESO  OPERACION, REPARACION Y MANTENIMIENTO   \n",
       "3  AGRUPACION PETROLERA, S.A.  EGRESO         SERVICIOS BASICOS Y DE CONSUMO   \n",
       "4             ALARMA SOLUTION  EGRESO  OPERACION, REPARACION Y MANTENIMIENTO   \n",
       "\n",
       "                     SUBCATEGORIA                          DETALLE FRECUENCIA  \n",
       "0            SERVICIOS OPERATIVOS       Otros servicios operativos   EVENTUAL  \n",
       "1            SERVICIOS OPERATIVOS       Otros servicios operativos   EVENTUAL  \n",
       "2                   MANTENIMIENTO  Mantenimiento puertas abatibles  FRECUENTE  \n",
       "3  SERVICIOS BASICOS Y DE CONSUMO          Otros gastos de consumo   EVENTUAL  \n",
       "4            SERVICIOS OPERATIVOS       Otros servicios operativos   EVENTUAL  "
      ]
     },
     "execution_count": 3,
     "metadata": {},
     "output_type": "execute_result"
    }
   ],
   "source": [
    "# Vendor data display 5 lines\n",
    "df_vendor.head(5)"
   ]
  },
  {
   "cell_type": "code",
   "execution_count": null,
   "metadata": {},
   "outputs": [],
   "source": []
  }
 ],
 "metadata": {
  "kernelspec": {
   "display_name": "venvpy3.12.3",
   "language": "python",
   "name": "python3"
  },
  "language_info": {
   "codemirror_mode": {
    "name": "ipython",
    "version": 3
   },
   "file_extension": ".py",
   "mimetype": "text/x-python",
   "name": "python",
   "nbconvert_exporter": "python",
   "pygments_lexer": "ipython3",
   "version": "3.12.3"
  }
 },
 "nbformat": 4,
 "nbformat_minor": 2
}
