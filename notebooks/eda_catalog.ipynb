{
 "cells": [
  {
   "cell_type": "code",
   "execution_count": 1,
   "metadata": {},
   "outputs": [],
   "source": [
    "# Import libraries \n",
    "import pandas as pd\n",
    "import numpy as np\n",
    "import matplotlib.pyplot as plt\n",
    "import seaborn as sns"
   ]
  },
  {
   "cell_type": "code",
   "execution_count": 2,
   "metadata": {},
   "outputs": [],
   "source": [
    "# load dataframes\n",
    "df_catalog = pd.read_csv('../data/catalogo_cuentas.csv', sep=',')\n",
    "\n"
   ]
  },
  {
   "cell_type": "code",
   "execution_count": 3,
   "metadata": {},
   "outputs": [
    {
     "data": {
      "text/html": [
       "<div>\n",
       "<style scoped>\n",
       "    .dataframe tbody tr th:only-of-type {\n",
       "        vertical-align: middle;\n",
       "    }\n",
       "\n",
       "    .dataframe tbody tr th {\n",
       "        vertical-align: top;\n",
       "    }\n",
       "\n",
       "    .dataframe thead th {\n",
       "        text-align: right;\n",
       "    }\n",
       "</style>\n",
       "<table border=\"1\" class=\"dataframe\">\n",
       "  <thead>\n",
       "    <tr style=\"text-align: right;\">\n",
       "      <th></th>\n",
       "      <th>TIPO</th>\n",
       "      <th>CATEGORIAS</th>\n",
       "      <th>CLASIFICACION</th>\n",
       "      <th>DETALLE CLASIFICACION</th>\n",
       "    </tr>\n",
       "  </thead>\n",
       "  <tbody>\n",
       "    <tr>\n",
       "      <th>0</th>\n",
       "      <td>EGRESO</td>\n",
       "      <td>GASTOS DE SALARIOS, PLANILLAS Y OTROS</td>\n",
       "      <td>PERSONAL CONTRATADO</td>\n",
       "      <td>Planillas de salarios</td>\n",
       "    </tr>\n",
       "    <tr>\n",
       "      <th>1</th>\n",
       "      <td>EGRESO</td>\n",
       "      <td>GASTOS DE SALARIOS, PLANILLAS Y OTROS</td>\n",
       "      <td>PERSONAL CONTRATADO</td>\n",
       "      <td>Decimo tercer mes</td>\n",
       "    </tr>\n",
       "    <tr>\n",
       "      <th>2</th>\n",
       "      <td>EGRESO</td>\n",
       "      <td>GASTOS DE SALARIOS, PLANILLAS Y OTROS</td>\n",
       "      <td>PERSONAL CONTRATADO</td>\n",
       "      <td>Vacaciones</td>\n",
       "    </tr>\n",
       "    <tr>\n",
       "      <th>3</th>\n",
       "      <td>EGRESO</td>\n",
       "      <td>GASTOS DE SALARIOS, PLANILLAS Y OTROS</td>\n",
       "      <td>PERSONAL CONTRATADO</td>\n",
       "      <td>Prestaciones laborales</td>\n",
       "    </tr>\n",
       "    <tr>\n",
       "      <th>4</th>\n",
       "      <td>EGRESO</td>\n",
       "      <td>GASTOS DE SALARIOS, PLANILLAS Y OTROS</td>\n",
       "      <td>PERSONAL CONTRATADO</td>\n",
       "      <td>Liquidacion</td>\n",
       "    </tr>\n",
       "  </tbody>\n",
       "</table>\n",
       "</div>"
      ],
      "text/plain": [
       "     TIPO                             CATEGORIAS        CLASIFICACION  \\\n",
       "0  EGRESO  GASTOS DE SALARIOS, PLANILLAS Y OTROS  PERSONAL CONTRATADO   \n",
       "1  EGRESO  GASTOS DE SALARIOS, PLANILLAS Y OTROS  PERSONAL CONTRATADO   \n",
       "2  EGRESO  GASTOS DE SALARIOS, PLANILLAS Y OTROS  PERSONAL CONTRATADO   \n",
       "3  EGRESO  GASTOS DE SALARIOS, PLANILLAS Y OTROS  PERSONAL CONTRATADO   \n",
       "4  EGRESO  GASTOS DE SALARIOS, PLANILLAS Y OTROS  PERSONAL CONTRATADO   \n",
       "\n",
       "    DETALLE CLASIFICACION  \n",
       "0   Planillas de salarios  \n",
       "1       Decimo tercer mes  \n",
       "2              Vacaciones  \n",
       "3  Prestaciones laborales  \n",
       "4             Liquidacion  "
      ]
     },
     "execution_count": 3,
     "metadata": {},
     "output_type": "execute_result"
    }
   ],
   "source": [
    "# Catalog data display 5 lines\n",
    "df_catalog.head(5)"
   ]
  },
  {
   "cell_type": "code",
   "execution_count": null,
   "metadata": {},
   "outputs": [],
   "source": []
  }
 ],
 "metadata": {
  "kernelspec": {
   "display_name": "venvpy3.12.3",
   "language": "python",
   "name": "python3"
  },
  "language_info": {
   "codemirror_mode": {
    "name": "ipython",
    "version": 3
   },
   "file_extension": ".py",
   "mimetype": "text/x-python",
   "name": "python",
   "nbconvert_exporter": "python",
   "pygments_lexer": "ipython3",
   "version": "3.12.3"
  }
 },
 "nbformat": 4,
 "nbformat_minor": 2
}
